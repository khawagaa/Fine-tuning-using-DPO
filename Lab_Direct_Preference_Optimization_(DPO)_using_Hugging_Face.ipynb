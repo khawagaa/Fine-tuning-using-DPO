{
  "cells": [
    {
      "cell_type": "markdown",
      "metadata": {
        "id": "view-in-github",
        "colab_type": "text"
      },
      "source": [
        "<a href=\"https://colab.research.google.com/github/khawagaa/Fine-tuning-using-DPO/blob/main/Lab_Direct_Preference_Optimization_(DPO)_using_Hugging_Face.ipynb\" target=\"_parent\"><img src=\"https://colab.research.google.com/assets/colab-badge.svg\" alt=\"Open In Colab\"/></a>"
      ]
    },
    {
      "cell_type": "markdown",
      "metadata": {
        "id": "b7b31ab7-cfe3-497d-b8ab-7af19747f74e"
      },
      "source": [
        "<p style=\"text-align:center\">\n",
        "    <a href=\"https://skills.network\" target=\"_blank\">\n",
        "    <img src=\"https://cf-courses-data.s3.us.cloud-object-storage.appdomain.cloud/assets/logos/SN_web_lightmode.png\" width=\"200\" alt=\"Skills Network Logo\"  />\n",
        "    </a>\n",
        "</p>\n"
      ]
    },
    {
      "cell_type": "markdown",
      "metadata": {
        "id": "2de0d41d-1eae-480c-94c1-8502848519b5"
      },
      "source": [
        "# **Direct Preference Optimization (DPO) Using Hugging Face**\n"
      ]
    },
    {
      "cell_type": "markdown",
      "metadata": {
        "id": "d137eb01-2450-4bae-bbc5-dc0dab787418"
      },
      "source": [
        "Estimated time needed: **60** minutes\n"
      ]
    },
    {
      "cell_type": "markdown",
      "metadata": {
        "id": "b5b8a0c8-3941-4722-a66b-f34d97e0a2c1"
      },
      "source": [
        "Large language models (LLMs) have revolutionized the field of natural language processing (NLP) by achieving remarkable performance in various tasks. However, it is challenging to align these models with human preferences. Therefore, the direct preference optimization (DPO) method comes in place which directly optimizes LLMs based models on user preferences, enhancing their alignment with human expectations. In this hands-on lab, you'll use the transformer reinforcement learning (trl) library from Hugging Face to implement DPO and fine-tune LLMs.\n",
        "\n",
        "The objective of this lab is to provide a practical understanding of the DPO method and its implementation using the trl library.\n",
        "\n",
        "By the end of this lab, you'll have hands-on experience in creating a data set formatted for DPO, implementing the optimization process, and evaluating the enhanced performance of LLMs.\n"
      ]
    },
    {
      "cell_type": "markdown",
      "metadata": {
        "id": "47cc96d3-2919-43cf-acd6-cabc13c0fd5a"
      },
      "source": [
        "## __Table of Contents__\n",
        "\n",
        "<ol>\n",
        "    <li><a href=\"#Objectives\">Objectives</a></li>\n",
        "    <li>\n",
        "        <a href=\"#Setup\">Setup</a>\n",
        "        <ol>\n",
        "            <li><a href=\"#Installing-required-libraries\">Installing required libraries</a></li>\n",
        "            <li><a href=\"#Importing-required-libraries\">Importing required libraries</a></li>\n",
        "        </ol>\n",
        "    </li>\n",
        "    <li>\n",
        "        <a href=\"#Create-and-configure-the-model-and-tokenizer\">Create and configure the model and tokenizer</a>\n",
        "        <ol>\n",
        "            <li><a href=\"#Quantized-model-configuration-(Optional)\">Quantized model configuration (Optional)</a></li>\n",
        "        </ol>\n",
        "    </li>\n",
        "    <li><a href=\"#Preprocess-dataset\">Preprocess dataset</a></li>\n",
        "    <li><a href=\"#DPO-configuration\">DPO configuration</a></li>\n",
        "    <li><a href=\"#DPO-training\">DPO training</a></li>\n",
        "    <li><a href=\"#Exercise\">Exercise</a>\n",
        "</ol>\n",
        "   \n"
      ]
    },
    {
      "cell_type": "markdown",
      "metadata": {
        "id": "e11b052c-2fcf-41a4-8cd1-6cac9e44e768"
      },
      "source": [
        "## Objectives\n",
        "\n",
        "After completing this lab, you'll be able to:\n",
        "- Understand the fundamentals of DPO and how it is different from proximal policy optimization (PPO)\n",
        "- Set up an environment by installing and configuring necessary tools and libraries, such as trl library from Hugging Face\n",
        "- Prepare a suitable environment for running DPO experiments with LLMs\n",
        "- Create a data set for DPO\n",
        "- Understand the required format for data sets used in DPO\n",
        "- Create and preprocess a data set that includes user preferences\n",
        "- Implement DPO by following a step-by-step guideline using the trl library\n",
        "- Set training arguments, create a base quantized LoRA model, and train it using a DPO trainer\n",
        "- Evaluate the performance of the LLM before and after applying DPO\n",
        "- Analyze the impact of DPO on aligning the model with user preferences\n",
        "\n",
        "By the end of this hands-on lab, you will be equipped with the knowledge and skills needed to apply DPO for fine-tuning LLMs using the trl library. This will enable you to enhance LLMs' performance and user alignment in various NLP applications.\n"
      ]
    },
    {
      "cell_type": "markdown",
      "metadata": {
        "id": "10944e29-c80d-4941-b011-2d14e04574d2"
      },
      "source": [
        "----\n"
      ]
    },
    {
      "cell_type": "markdown",
      "metadata": {
        "id": "a94a5cf3-64a6-4d2f-8285-aa7f3adc753a"
      },
      "source": [
        "## Setup\n"
      ]
    },
    {
      "cell_type": "markdown",
      "metadata": {
        "id": "e4d02ed1-d359-424a-969c-aa3a6abaa55e"
      },
      "source": [
        "### Installing required libraries\n"
      ]
    },
    {
      "cell_type": "markdown",
      "metadata": {
        "id": "3df099eb-dda9-49ec-841e-4f2c342be733"
      },
      "source": [
        "The following required libraries are __not__ pre-installed in the Skills Network Labs environment. You will need to run the following cell to install them.\n",
        "\n",
        "**Note:** In this lab, you don't have a pinned version to demonstrate the latest functionality, but you can always pin versions in your labs.\n"
      ]
    },
    {
      "cell_type": "code",
      "metadata": {
        "id": "526e16af-5b85-4f16-bba1-c97eff3feaa1"
      },
      "outputs": [],
      "source": [
        "!pip install torch==2.3.1\n",
        "!pip install --user trl==0.11.4 # for optimization training\n",
        "!pip install peft==0.14.0 # for creating LoRA architecture\n",
        "!pip install matplotlib==3.9.0\n",
        "!pip install pandas\n",
        "!pip install numpy==1.26.0\n",
        "!pip install --user datasets==3.2.0"
      ],
      "execution_count": null
    },
    {
      "cell_type": "code",
      "metadata": {
        "id": "e1b604d0-1e7f-42c0-90de-7fec7ecbbf87"
      },
      "outputs": [],
      "source": [
        "!pip install transformers==4.45.2"
      ],
      "execution_count": null
    },
    {
      "cell_type": "code",
      "metadata": {
        "id": "ab8c6140-07c9-41e6-a951-e1c4d1faa627"
      },
      "outputs": [],
      "source": [
        "#!pip install --user trl==0.11.0"
      ],
      "execution_count": null
    },
    {
      "cell_type": "markdown",
      "metadata": {
        "id": "e220e00c-a0de-484d-8b44-13df3b0131b9"
      },
      "source": [
        "### Importing required libraries\n",
        "\n",
        "_It's recommended to import all required libraries in one place (here):_\n"
      ]
    },
    {
      "cell_type": "code",
      "metadata": {
        "id": "7e8499e9-7755-497d-8c11-22ca2364964f"
      },
      "outputs": [],
      "source": [
        "##imports\n",
        "import multiprocessing\n",
        "import os\n",
        "import requests\n",
        "import tarfile\n",
        "import pandas as pd\n",
        "import matplotlib.pyplot as plt\n",
        "\n",
        "import torch\n",
        "from datasets import load_dataset\n",
        "\n",
        "from peft import LoraConfig\n",
        "from transformers import AutoModelForCausalLM, AutoTokenizer,TrainingArguments, GPT2Tokenizer, set_seed, GenerationConfig\n",
        "from trl import DPOConfig, DPOTrainer\n"
      ],
      "execution_count": null
    },
    {
      "cell_type": "markdown",
      "metadata": {
        "id": "a8e0ce5b-07cb-4839-b6ca-d77910210b23"
      },
      "source": [
        "## Create and configure the model and tokenizer\n"
      ]
    },
    {
      "cell_type": "code",
      "metadata": {
        "id": "21e349e7-4856-4ad5-8117-fbda95d31997"
      },
      "outputs": [],
      "source": [
        "\n",
        "# Load the GPT-2 model\n",
        "model = AutoModelForCausalLM.from_pretrained(\"gpt2\")\n",
        "\n",
        "# Load a reference model\n",
        "model_ref = AutoModelForCausalLM.from_pretrained(\"gpt2\")\n",
        "\n",
        "# Load the GPT-2 tokenizer\n",
        "tokenizer = GPT2Tokenizer.from_pretrained(\"gpt2\")\n",
        "\n",
        "# Set the pad token to the end-of-sequence token\n",
        "tokenizer.pad_token = tokenizer.eos_token\n",
        "# Set the padding side to \"right\" to fix the overflow issue with FP16 training\n",
        "tokenizer.padding_side = \"right\"\n",
        "\n",
        "# Disable the use of the cache during the model's forward pass\n",
        "model.config.use_cache = False"
      ],
      "execution_count": null
    },
    {
      "cell_type": "markdown",
      "metadata": {
        "id": "09f12984-2bde-422e-b60c-d9fcadd4297c"
      },
      "source": [
        "Here, you can check the model architecture.\n"
      ]
    },
    {
      "cell_type": "code",
      "metadata": {
        "id": "d2d054e5-2d66-431a-9db7-3ea8623fd4a2"
      },
      "outputs": [],
      "source": [
        "model"
      ],
      "execution_count": null
    },
    {
      "cell_type": "markdown",
      "metadata": {
        "id": "f6e743dd-7d5b-4e65-8746-bb448d3f17d0"
      },
      "source": [
        "### Quantized model configuration (Optional)\n",
        "If you want memory-efficient training and have access to a GPU-powered environment, you can download the complete lab, uncomment the following two code blocks to create a quantized model and proceed with training the model on GPU. This is because you will need GPUs for the bits and bytes package.\n"
      ]
    },
    {
      "cell_type": "code",
      "metadata": {
        "id": "01b01eb4-e7b1-4ea1-89ad-d6fed409cc66"
      },
      "outputs": [],
      "source": [
        "#!pip install -U bitsandbytes # this package is required for quantization"
      ],
      "execution_count": null
    },
    {
      "cell_type": "markdown",
      "metadata": {
        "id": "bc8a1066-09b8-4201-b76f-e53729347d9a"
      },
      "source": [
        "**_Note:_**  _You can run the installed package by restarting a Kernel._\n"
      ]
    },
    {
      "cell_type": "code",
      "metadata": {
        "id": "2a7547e9-9b38-49ff-93fc-3656152fb8c5"
      },
      "outputs": [],
      "source": [
        "'''## Quantized model --only available on GPU\n",
        "from transformers import BitsAndBytesConfig\n",
        "\n",
        "# Configure the quantization parameters\n",
        "quantization_config = BitsAndBytesConfig(\n",
        "    # Load the model in 4-bit quantized format\n",
        "    load_in_4bit=True,\n",
        "    # Enable double quantization for better accuracy\n",
        "    bnb_4bit_use_double_quant=True,\n",
        "    # Use non-uniform 4-bit quantization (nf4)\n",
        "    bnb_4bit_quant_type=\"nf4\",\n",
        "    # Use bfloat16 as the computation data type during quantization\n",
        "    bnb_4bit_compute_dtype=torch.bfloat16\n",
        ")\n",
        "\n",
        "# Load GPT-2 model with the specified quantization configuration\n",
        "model = AutoModelForCausalLM.from_pretrained(\"gpt2\", quantization_config=quantization_config)\n",
        "\n",
        "# Load a reference model with the same quantization configuration\n",
        "model_ref = AutoModelForCausalLM.from_pretrained(\"gpt2\", quantization_config=quantization_config)\n",
        "\n",
        "# Load GPT-2 tokenizer\n",
        "tokenizer = GPT2Tokenizer.from_pretrained(\"gpt2\")\n",
        "\n",
        "# Set the pad token to the end-of-sequence token\n",
        "tokenizer.pad_token = tokenizer.eos_token\n",
        "# Set the padding side to \"right\" to fix the overflow issue with FP16 training\n",
        "tokenizer.padding_side = \"right\"\n",
        "\n",
        "# Disable the use of the cache during the model's forward pass\n",
        "model.config.use_cache = False'''"
      ],
      "execution_count": null
    },
    {
      "cell_type": "markdown",
      "metadata": {
        "id": "63173404-5327-4d92-a732-587b36912451"
      },
      "source": [
        "## Preprocess data set\n",
        "\n",
        "The \"ultrafeedback_binarized\" data set on Hugging Face is a collection of prompts and responses.  \n"
      ]
    },
    {
      "cell_type": "code",
      "metadata": {
        "id": "a110c5da-a9d7-413f-9c10-0f5a8e1d9144"
      },
      "outputs": [],
      "source": [
        "# Load the dataset from the specified location\n",
        "ds = load_dataset(\"BarraHome/ultrafeedback_binarized\")"
      ],
      "execution_count": null
    },
    {
      "cell_type": "markdown",
      "metadata": {
        "id": "c8165182-0b50-415b-8aaa-748f0f5402ba"
      },
      "source": [
        "This data set includes six splits.\n"
      ]
    },
    {
      "cell_type": "code",
      "metadata": {
        "id": "dfeec910-4c03-42ba-981d-83122f30986a"
      },
      "outputs": [],
      "source": [
        "ds.keys()"
      ],
      "execution_count": null
    },
    {
      "cell_type": "markdown",
      "metadata": {
        "id": "f99b4ceb-db66-4c03-85d6-d4848d8659b8"
      },
      "source": [
        "Each record has different features among which you need to select from the three features, that is \"chosen,\" \"rejected,\" and \"prompt.\" This means that for each prompt, a prefered response and a rejected response are provided.\n"
      ]
    },
    {
      "cell_type": "code",
      "metadata": {
        "id": "2ad49e1c-fd6a-4e2f-9e1e-4bdc2e80f130"
      },
      "outputs": [],
      "source": [
        "ds[\"train_prefs\"][0].keys()"
      ],
      "execution_count": null
    },
    {
      "cell_type": "markdown",
      "metadata": {
        "id": "5b0080f9-4e17-4b57-8487-3233c147fcfe"
      },
      "source": [
        "You can check the sample record of data, where you can see three features along with other features that is the prompt, the rejected, and chosen responses.\n"
      ]
    },
    {
      "cell_type": "code",
      "metadata": {
        "id": "4ef6b2b1-a805-4d3b-b2de-c50b6b2d7b83"
      },
      "outputs": [],
      "source": [
        "ds[\"train_prefs\"][0]"
      ],
      "execution_count": null
    },
    {
      "cell_type": "markdown",
      "metadata": {
        "id": "f93bea77-9db4-407c-b57c-5b8c8990e0db"
      },
      "source": [
        "Now, put the data set in the format that the DPO trainer accepts.\n",
        "\n",
        "| Chosen | Rejected | Prompt |\n",
        "| --- | --- | --- |\n",
        " | Developing a daily habit of drawing can be challenging <br>but with consistent practice, and a few tips. | One way to develop a habit of drawing daily is <br>to allocate a specific time interval for drawing. | How can I develop a habit of drawing daily?|\n"
      ]
    },
    {
      "cell_type": "code",
      "metadata": {
        "id": "f5c90036-db56-432a-b9d1-fbbccf20aa4a"
      },
      "outputs": [],
      "source": [
        "# You can reduce the volume of data (due to resource limitations) by selecting the first 5% examples from each split of the dataset\n",
        "for key in ds:\n",
        "    #cnt = round(ds[key].__len__()*0.05)\n",
        "    cnt=50\n",
        "    ds[key] = ds[key].select(range(cnt))\n",
        "\n",
        "# Define a function to process the data\n",
        "def process(row):\n",
        "    # delete unwanted columns\n",
        "    del row[\"prompt_id\"]\n",
        "    del row[\"messages\"]\n",
        "    del row[\"score_chosen\"]\n",
        "    del row[\"score_rejected\"]\n",
        "    # retrieve the actual response text\n",
        "    row[\"chosen\"] = row[\"chosen\"][-1][\"content\"]\n",
        "    row[\"rejected\"] = row[\"rejected\"][-1][\"content\"]\n",
        "\n",
        "    return row\n",
        "\n",
        "# Apply the data processing function to the dataset\n",
        "ds = ds.map(\n",
        "    process,\n",
        "    num_proc=multiprocessing.cpu_count(),\n",
        "    load_from_cache_file=False,\n",
        ")\n",
        "\n",
        "# Split the dataset into training and evaluation sets\n",
        "train_dataset = ds['train_prefs']\n",
        "eval_dataset = ds['test_prefs']\n",
        "\n"
      ],
      "execution_count": null
    },
    {
      "cell_type": "markdown",
      "metadata": {
        "id": "b7f14621-933b-4605-93c1-9d94266f114d"
      },
      "source": [
        "Let's check the data record.\n"
      ]
    },
    {
      "cell_type": "code",
      "metadata": {
        "id": "4172ad81-92ab-4699-b6d4-bd601ee7ede8"
      },
      "outputs": [],
      "source": [
        "train_dataset[0]"
      ],
      "execution_count": null
    },
    {
      "cell_type": "markdown",
      "metadata": {
        "id": "410df653-d933-46e9-8e0e-499f5e6b82bd"
      },
      "source": [
        "Next, define LoRAConfig for efficient fine-tuning.\n"
      ]
    },
    {
      "cell_type": "code",
      "metadata": {
        "id": "9a92494b-1e8c-4d8e-b357-ce1d6fd0213e"
      },
      "outputs": [],
      "source": [
        "# PEFT (Parameter-Efficient Finetuning) configuration\n",
        "peft_config = LoraConfig(\n",
        "        # The rank of the low-rank adaptation weights\n",
        "        r=4,\n",
        "        # The target modules to apply the low-rank adaptation to\n",
        "        target_modules=['c_proj','c_attn'],\n",
        "        # The task type for the low-rank adaptation\n",
        "        task_type=\"CAUSAL_LM\",\n",
        "        # The scaling factor for the low-rank adaptation weights\n",
        "        lora_alpha=8,\n",
        "        # The dropout probability for the low-rank adaptation weights\n",
        "        lora_dropout=0.1,\n",
        "        # The bias mode for the low-rank adaptation\n",
        "        bias=\"none\",\n",
        ")"
      ],
      "execution_count": null
    },
    {
      "cell_type": "markdown",
      "metadata": {
        "id": "5968cd9e-0160-4691-8586-3320a56e1f41"
      },
      "source": [
        "### DPO configuration\n",
        "\n",
        "First, define training arguments.\n"
      ]
    },
    {
      "cell_type": "code",
      "metadata": {
        "id": "8c054ee8-4656-42f2-bd5c-56da25871eca"
      },
      "outputs": [],
      "source": [
        "# DPO configuration\n",
        "from peft import get_peft_model\n",
        "training_args = DPOConfig(\n",
        "    # The beta parameter for the DPO loss function\n",
        "    #beta is the temperature parameter for the DPO loss, typically something in the range of 0.1 to 0.5 .\n",
        "    beta=0.1,\n",
        "    # The output directory for the training\n",
        "    output_dir=\"dpo\",\n",
        "    # The number of training epochs\n",
        "    num_train_epochs=5,\n",
        "    # The batch size per device during training\n",
        "    per_device_train_batch_size=1,\n",
        "    # The batch size per device during evaluation\n",
        "    per_device_eval_batch_size=1,\n",
        "    # Whether to remove unused columns from the dataset\n",
        "    remove_unused_columns=False,\n",
        "    # The number of steps between logging training progress\n",
        "    logging_steps=10,\n",
        "    # The number of gradient accumulation steps\n",
        "    gradient_accumulation_steps=1,\n",
        "    # The learning rate for the optimization\n",
        "    learning_rate=1e-4,\n",
        "    # The evaluation strategy (e.g., after each step or epoch)\n",
        "    evaluation_strategy=\"epoch\",\n",
        "    # The number of warmup steps for the learning rate scheduler\n",
        "    warmup_steps=2,\n",
        "    # Whether to use 16-bit (float16) precision\n",
        "    fp16=False,\n",
        "    # The number of steps between saving checkpoints\n",
        "    save_steps=500,\n",
        "    # The maximum number of checkpoints to keep\n",
        "    #save_total_limit=2,\n",
        "    # The reporting backend to use (set to 'none' to disable, you can also report to wandb or tensorboard)\n",
        "    report_to='none'\n",
        ")"
      ],
      "execution_count": null
    },
    {
      "cell_type": "markdown",
      "metadata": {
        "id": "77edf717-f35a-46cf-b9ae-69cd1fa1ef8c"
      },
      "source": [
        "### DPO training\n",
        "\n",
        "Next step is creating the actual trainer using DPOTrainer class.\n"
      ]
    },
    {
      "cell_type": "code",
      "metadata": {
        "id": "334f52f1-00e5-4c16-bcb5-bc0a91c6f3dd"
      },
      "outputs": [],
      "source": [
        "tokenizer.pad_token = tokenizer.eos_token\n",
        "\n",
        "# Create a DPO trainer\n",
        "# This trainer will handle the fine-tuning of the model using the DPO technique\n",
        "trainer = DPOTrainer(\n",
        "        # The model to be fine-tuned\n",
        "        model=model,\n",
        "        # The reference model (not used in this case because LoRA has been used)\n",
        "        ref_model=None,\n",
        "        # The DPO training configuration\n",
        "        args=training_args,\n",
        "        # The beta parameter for the DPO loss function\n",
        "\n",
        "        # The training dataset\n",
        "        train_dataset=train_dataset,\n",
        "        # The evaluation dataset\n",
        "        eval_dataset=eval_dataset,\n",
        "        # The tokenizer for the model\n",
        "        tokenizer=tokenizer,\n",
        "        # The PEFT (Parallel Efficient Finetuning) configuration\n",
        "        peft_config=peft_config,\n",
        "        # The maximum prompt length\n",
        "        #max_prompt_length=512,\n",
        "        # The maximum sequence length\n",
        "        max_length=512,\n",
        "    )\n"
      ],
      "execution_count": null
    },
    {
      "cell_type": "markdown",
      "metadata": {
        "id": "f6685ddb-2a23-4e2d-9b84-acc0b45e2c0f"
      },
      "source": [
        "Please note that when using LoRA for the base model, it's efficient to leave the model_ref param null, in which case the DPOTrainer will unload the adapter for reference inference.\n",
        "\n",
        "\n",
        "Now, you're all set for training the model.\n"
      ]
    },
    {
      "cell_type": "markdown",
      "metadata": {
        "id": "4b2658b6-ed1e-41d7-952b-87f23569c406"
      },
      "source": [
        "#### Training model\n"
      ]
    },
    {
      "cell_type": "markdown",
      "metadata": {
        "id": "30af9935-f1fd-4c37-9024-a8217e51c25d"
      },
      "source": [
        "**Keep in mind that training the model on a CPU can be time-consuming and may cause the kernel to crash due to memory issues. If this happens, you can bypass training by loading the pre-trained model provided in the next section and proceed from there.**\n"
      ]
    },
    {
      "cell_type": "code",
      "metadata": {
        "id": "9088c26f-dee1-4e46-9aac-304d11409c63"
      },
      "outputs": [],
      "source": [
        "# Start the training process\n",
        "trainer.train()"
      ],
      "execution_count": null
    },
    {
      "cell_type": "code",
      "metadata": {
        "id": "fb5d512c-d0f7-4411-b441-ec1a61868de5"
      },
      "outputs": [],
      "source": [
        "!python --v"
      ],
      "execution_count": null
    },
    {
      "cell_type": "code",
      "metadata": {
        "id": "45903f0b-58bb-43a1-8403-685f70f47fb0"
      },
      "outputs": [],
      "source": [
        "print(hasattr(model, \"generate\"))"
      ],
      "execution_count": null
    },
    {
      "cell_type": "markdown",
      "metadata": {
        "id": "e3a2c34c-9c18-4687-9895-ddcf0d2ecc69"
      },
      "source": [
        "Let's retrieve and plot the training loss versus evaluation loss.\n"
      ]
    },
    {
      "cell_type": "code",
      "metadata": {
        "id": "97d1dc9f-705f-446b-92f1-d40b360749a4"
      },
      "outputs": [],
      "source": [
        "# Retrieve log_history and save it to a dataframe\n",
        "log = pd.DataFrame(trainer.state.log_history)\n",
        "log_t = log[log['loss'].notna()]\n",
        "log_e = log[log['eval_loss'].notna()]\n",
        "\n",
        "# Plot train and evaluation losses\n",
        "plt.plot(log_t[\"epoch\"], log_t[\"loss\"], label = \"train_loss\")\n",
        "plt.plot(log_e[\"epoch\"], log_e[\"eval_loss\"], label = \"eval_loss\")\n",
        "plt.legend()\n",
        "plt.show()"
      ],
      "execution_count": null
    },
    {
      "cell_type": "markdown",
      "metadata": {
        "id": "305d3e78-d5e1-4c61-9a63-bf923591fb7c"
      },
      "source": [
        "![image](https://cf-courses-data.s3.us.cloud-object-storage.appdomain.cloud/7KEnvtpUyNcJTINdArLf7A/loss%20dpo.png)\n"
      ]
    },
    {
      "cell_type": "code",
      "metadata": {
        "id": "c05a7bef-4cb6-4372-8d85-41a57086cc88"
      },
      "outputs": [],
      "source": [
        "# Load the trained DPO model you just trained\n",
        "dpo_model = AutoModelForCausalLM.from_pretrained('./dpo/checkpoint-250')\n"
      ],
      "execution_count": null
    },
    {
      "cell_type": "markdown",
      "metadata": {
        "id": "9a7f533d-e4fc-45bb-a142-ba2af70eec57"
      },
      "source": [
        "#### Loading trained model\n"
      ]
    },
    {
      "cell_type": "markdown",
      "metadata": {
        "id": "ad6250e2-f8f2-43a6-876e-f0e58ff1ef3b"
      },
      "source": [
        "If you encounter difficulty in running the training cell due to resource limitations, you can download the model to be fine-tuned:\n"
      ]
    },
    {
      "cell_type": "code",
      "metadata": {
        "id": "aa9098a6-c6f6-4bb4-b36e-06b9ce212b7b"
      },
      "outputs": [],
      "source": [
        "# Define the URL and the filename\n",
        "url = 'https://cf-courses-data.s3.us.cloud-object-storage.appdomain.cloud/YIDeT3qihEpWChdXN_RmTg/DPO-tar.gz'\n",
        "filename = './DPO.tar'\n",
        "\n",
        "# Download the file\n",
        "response = requests.get(url)\n",
        "\n",
        "# Save the file locally\n",
        "with open(filename, 'wb') as f:\n",
        "    f.write(response.content)\n",
        "\n",
        "# Extract the tar file\n",
        "if tarfile.is_tarfile(filename):\n",
        "    with tarfile.open(filename, 'r') as tar:\n",
        "        tar.extractall()\n",
        "        print(\"Files extracted:\", tar.getnames())\n",
        "else:\n",
        "    print(\"The adownloaded file is not a tar file.\")"
      ],
      "execution_count": null
    },
    {
      "cell_type": "markdown",
      "metadata": {
        "id": "2705899e-e01d-43b8-991f-4fbce9fb700e"
      },
      "source": [
        "Then, load it into the model for further inference:\n"
      ]
    },
    {
      "cell_type": "code",
      "metadata": {
        "id": "7ecea602-72c7-4071-88a4-76bddbe47ee4"
      },
      "outputs": [],
      "source": [
        "# Load the trained DPO model tiy just trained\n",
        "dpo_model = AutoModelForCausalLM.from_pretrained('./DPO')\n"
      ],
      "execution_count": null
    },
    {
      "cell_type": "markdown",
      "metadata": {
        "id": "72e5ec7e-1ae5-48a9-9e63-b1180b0e042b"
      },
      "source": [
        "### Generation\n"
      ]
    },
    {
      "cell_type": "code",
      "metadata": {
        "id": "d993736f-e8c7-44ba-9b83-f3feaa7996f5"
      },
      "outputs": [],
      "source": [
        "# Load the GPT-2 tokenizer\n",
        "tokenizer = GPT2Tokenizer.from_pretrained('gpt2')"
      ],
      "execution_count": null
    },
    {
      "cell_type": "code",
      "metadata": {
        "id": "4e92681c-7ea8-4103-937d-6cf8e45448b5"
      },
      "outputs": [],
      "source": [
        "# Set a seed for reproducibility\n",
        "set_seed(42)\n",
        "\n",
        "\n",
        "# Define the generation configuration for the DPO model\n",
        "# This sets the parameters for text generation\n",
        "generation_config = GenerationConfig(\n",
        "        # Use sampling to generate diverse text\n",
        "        do_sample=True,\n",
        "        # Top-k sampling parameter\n",
        "        top_k=1,\n",
        "        # Temperature parameter to control the randomness of the generated text\n",
        "        temperature=0.1,\n",
        "        # Maximum number of new tokens to generate\n",
        "        max_new_tokens=25,\n",
        "        # Use the end-of-sequence token as the padding token\n",
        "        pad_token_id=tokenizer.eos_token_id\n",
        "    )\n",
        "\n",
        "# Define the input prompt for text generation\n",
        "PROMPT = \"Is a higher octane gasoline better for your car?\"\n",
        "# Encode the prompt using the tokenizer\n",
        "inputs = tokenizer(PROMPT, return_tensors='pt')\n",
        "\n",
        "# Generate text using the DPO model\n",
        "outputs = dpo_model.generate(**inputs, generation_config=generation_config)\n",
        "# Decode the generated text and print it\n",
        "print(\"DPO response:\\t\",tokenizer.decode(outputs[0], skip_special_tokens=True))\n",
        "\n",
        "# Load the pre-trained GPT-2 model\n",
        "gpt2_model = AutoModelForCausalLM.from_pretrained('gpt2')\n",
        "# Generate text using the GPT-2 model\n",
        "outputs = gpt2_model.generate(**inputs, generation_config=generation_config)\n",
        "# Decode the generated text and print it\n",
        "print(\"\\nGPT2 response:\\t\",tokenizer.decode(outputs[0], skip_special_tokens=True))"
      ],
      "execution_count": null
    },
    {
      "cell_type": "markdown",
      "metadata": {
        "id": "eadacd93-bc91-4dca-a849-4a589aa08ab3"
      },
      "source": [
        "Althought the model is trained on a small data for 5 epochs only, it can be seen that the response generated by the DPO-tuned model is more concise and straightforward.\n"
      ]
    },
    {
      "cell_type": "markdown",
      "metadata": {
        "id": "5bf59ca9-20fa-4f6b-acdd-425d69b8d9ae"
      },
      "source": [
        "# Exercise\n",
        "\n"
      ]
    },
    {
      "cell_type": "markdown",
      "metadata": {
        "id": "d03d1c03-c914-4671-8d74-f22cab88198b"
      },
      "source": [
        "### Exercise 1: Preprocess the `argilla/ultrafeedback-binarized-preferences-cleaned` Dataset\n"
      ]
    },
    {
      "cell_type": "markdown",
      "metadata": {
        "id": "606b49ed-9a93-4006-850d-b36b3b7acde5"
      },
      "source": [
        "This data set comprises user-generated prompts along with corresponding responses categorized as either \"chosen\" or \"rejected.\" It provides a rich source of binary feedback, making it ideal for training models to align with user preferences.\n"
      ]
    },
    {
      "cell_type": "markdown",
      "metadata": {
        "id": "89d8ae0c-3f3e-4b7b-8032-d62068af0852"
      },
      "source": [
        "##### Load the data set from the `argilla/ultrafeedback-binarized-preferences-cleaned`\n"
      ]
    },
    {
      "cell_type": "code",
      "metadata": {
        "id": "e3633e96-5cec-4615-aabf-a3ad76ca9261"
      },
      "outputs": [],
      "source": [
        "#TODO\n",
        "dataset = load_dataset(\"argilla/ultrafeedback-binarized-preferences-cleaned\")"
      ],
      "execution_count": null
    },
    {
      "cell_type": "markdown",
      "metadata": {
        "id": "2d5c1fc4-6be9-42ca-bc35-875d3f5f6db3"
      },
      "source": [
        "<details>\n",
        "    <summary>Click here for hint</summary>\n",
        "\n",
        "```python\n",
        "dataset = load_dataset(\"argilla/ultrafeedback-binarized-preferences-cleaned\")\n",
        "```\n",
        "\n",
        "</details>\n"
      ]
    },
    {
      "cell_type": "code",
      "metadata": {
        "id": "aa8504d0-f2d7-452f-a3f5-ea2ea953c73a"
      },
      "outputs": [],
      "source": [
        "dataset['train']"
      ],
      "execution_count": null
    },
    {
      "cell_type": "markdown",
      "metadata": {
        "id": "3a1b6964-32f8-4630-8e34-f47c94ef00fc"
      },
      "source": [
        "##### Set the variable cnt to 50 and then select the first 50 (cnt) examples to reduce the volume of data for resource limitations.\n"
      ]
    },
    {
      "cell_type": "code",
      "metadata": {
        "id": "21a43e02-885f-4a33-9bcb-447aa89b744c"
      },
      "outputs": [],
      "source": [
        "#TODO\n",
        "cnt = 50  # You can adjust this count based on your requirements\n",
        "\n",
        "# Select the first 5% of examples\n",
        "dataset['train'] = dataset['train'].select(range(cnt))"
      ],
      "execution_count": null
    },
    {
      "cell_type": "markdown",
      "metadata": {
        "id": "a1b8ac02-5b5b-405e-9619-8dd01a5f1b1a"
      },
      "source": [
        "<details>\n",
        "    <summary>Click here for hint</summary>\n",
        "\n",
        "```python\n",
        "cnt = 50  # You can adjust this count based on your requirements\n",
        "\n",
        "# Select the first 5% of examples\n",
        "dataset['train'] = dataset['train'].select(range(cnt))\n",
        "```\n",
        "\n",
        "</details>\n"
      ]
    },
    {
      "cell_type": "markdown",
      "metadata": {
        "id": "e4d709f7-567a-4814-b935-5096fcbefaa8"
      },
      "source": [
        "##### Create a function named `process` that takes a row of data as input. Within this function, remove unwanted columns such as `source, chosen-rating, chosen-model, rejected-rating, and rejected-model`. Then, use the map function to apply the process function to each row in the training data set.\n"
      ]
    },
    {
      "cell_type": "code",
      "metadata": {
        "id": "89cc661b-96be-4981-ab73-82ed82954f7c"
      },
      "outputs": [],
      "source": [
        "#TODO\n",
        "\n",
        "def process(row):\n",
        "    # Delete unwanted columns\n",
        "    del row[\"source\"]\n",
        "    del row[\"chosen-rating\"]\n",
        "    del row[\"chosen-model\"]\n",
        "    del row[\"rejected-rating\"]\n",
        "    del row[\"rejected-model\"]\n",
        "\n",
        "    # Retrieve the actual response text\n",
        "    row[\"chosen\"] = row[\"chosen\"][-1][\"content\"]\n",
        "    row[\"rejected\"] = row[\"rejected\"][-1][\"content\"]\n",
        "\n",
        "    return row\n",
        "\n",
        "# Apply the data processing function to the dataset\n",
        "dataset['train'] = dataset['train'].map(\n",
        "    process,\n",
        "    num_proc=multiprocessing.cpu_count(),\n",
        "    load_from_cache_file=False,\n",
        ")"
      ],
      "execution_count": null
    },
    {
      "cell_type": "markdown",
      "metadata": {
        "id": "233d0c00-da03-4b6e-960c-5df803537480"
      },
      "source": [
        "<details>\n",
        "    <summary>Click here for hint</summary>\n",
        "\n",
        "```python\n",
        "def process(row):\n",
        "    # Delete unwanted columns\n",
        "    del row[\"source\"]\n",
        "    del row[\"chosen-rating\"]\n",
        "    del row[\"chosen-model\"]\n",
        "    del row[\"rejected-rating\"]\n",
        "    del row[\"rejected-model\"]\n",
        "    \n",
        "    # Retrieve the actual response text\n",
        "    row[\"chosen\"] = row[\"chosen\"][-1][\"content\"]\n",
        "    row[\"rejected\"] = row[\"rejected\"][-1][\"content\"]\n",
        "    \n",
        "    return row\n",
        "\n",
        "# Apply the data processing function to the dataset\n",
        "dataset['train'] = dataset['train'].map(\n",
        "    process,\n",
        "    num_proc=multiprocessing.cpu_count(),\n",
        "    load_from_cache_file=False,\n",
        ")\n",
        "```\n",
        "\n",
        "</details>\n"
      ]
    },
    {
      "cell_type": "markdown",
      "metadata": {
        "id": "355f45b7-1f8d-4407-b55a-ccaf1daece32"
      },
      "source": [
        "##### Split the data set into training and evaluation sets:\n",
        "Calculate the size for the training set as 80% of the total data. The remaining 20% will be used for evaluation.\n"
      ]
    },
    {
      "cell_type": "code",
      "metadata": {
        "id": "e4944774-2959-49dd-9e9b-82dc3f9e1aaf"
      },
      "outputs": [],
      "source": [
        "#TODO\n",
        "train_size = int(0.8 * len(dataset['train']))  # 80% for training\n",
        "eval_size = len(dataset['train']) - train_size  # Remaining 20% for evaluation\n",
        "\n",
        "train_dataset = dataset['train'].select(range(train_size))\n",
        "eval_dataset = dataset['train'].select(range(train_size, train_size + eval_size))"
      ],
      "execution_count": null
    },
    {
      "cell_type": "markdown",
      "metadata": {
        "id": "4b6d66f0-7893-4128-865a-bb9a275f956a"
      },
      "source": [
        "<details>\n",
        "    <summary>Click here for hint</summary>\n",
        "\n",
        "```python\n",
        "train_size = int(0.8 * len(dataset['train']))  # 80% for training\n",
        "eval_size = len(dataset['train']) - train_size  # Remaining 20% for evaluation\n",
        "\n",
        "train_dataset = dataset['train'].select(range(train_size))\n",
        "eval_dataset = dataset['train'].select(range(train_size, train_size + eval_size))\n",
        "```\n",
        "\n",
        "</details>\n"
      ]
    },
    {
      "cell_type": "code",
      "metadata": {
        "id": "14688e0f-a1fb-4975-bba1-85e781e37174"
      },
      "outputs": [],
      "source": [
        "train_dataset"
      ],
      "execution_count": null
    },
    {
      "cell_type": "code",
      "metadata": {
        "id": "cd5d2fb5-4bad-413f-aa31-3627fce17cf5"
      },
      "outputs": [],
      "source": [
        "train_dataset[0]"
      ],
      "execution_count": null
    },
    {
      "cell_type": "markdown",
      "metadata": {
        "id": "ba7cfc7f-983b-4e08-9072-45d7ed45c5ef"
      },
      "source": [
        "### Exercise 2: Prompt Inferencing and Comparison with GPT-2\n"
      ]
    },
    {
      "cell_type": "code",
      "metadata": {
        "id": "c09dd8ef-e398-4a68-8db7-183bf34410dc"
      },
      "outputs": [],
      "source": [
        "PROMPT = input()"
      ],
      "execution_count": null
    },
    {
      "cell_type": "markdown",
      "metadata": {
        "id": "271077f1-fe25-4ba5-8b86-9ba6691b5297"
      },
      "source": [
        "##### Initialize the GPT-2 Tokenizer\n"
      ]
    },
    {
      "cell_type": "code",
      "metadata": {
        "id": "c5f3d7db-abb1-49aa-bd2e-36da823c7d34"
      },
      "outputs": [],
      "source": [
        "#TODO\n",
        "tokenizer = GPT2Tokenizer.from_pretrained('gpt2')"
      ],
      "execution_count": null
    },
    {
      "cell_type": "markdown",
      "metadata": {
        "id": "203b17d9-5160-4a0e-a817-3df2fe90c0db"
      },
      "source": [
        "<details>\n",
        "    <summary>Click here for hint</summary>\n",
        "\n",
        "```python\n",
        "tokenizer = GPT2Tokenizer.from_pretrained('gpt2')\n",
        "```\n",
        "\n",
        "</details>\n"
      ]
    },
    {
      "cell_type": "markdown",
      "metadata": {
        "id": "9a06c491-5156-4175-be18-24747591285b"
      },
      "source": [
        "##### Create a generation_config object to set the parameters for text generation.\n",
        "- do_sample=True    (It enables sampling, which allows for more diverse outputs.)\n",
        "- top_k=1 (It specifies the number of highest probability vocabulary tokens to consider during generation.)\n",
        "- temperature=0.1 (It controls the randomness of the output.)\n",
        "- max_new_tokens=25 (It sets the maximum number of new tokens to generate during inference.)\n",
        "- pad_token_id=tokenizer.eos_token_id (It specifies the token to use for padding.)\n"
      ]
    },
    {
      "cell_type": "code",
      "metadata": {
        "id": "010b2e4c-8bce-4043-b9b2-7d424f611fd4"
      },
      "outputs": [],
      "source": [
        "#TODO\n",
        "generation_config = GenerationConfig(\n",
        "    # Use sampling to generate diverse text\n",
        "    do_sample=True,\n",
        "    # Top-k sampling parameter: controls the number of highest probability tokens to consider\n",
        "    top_k=1,\n",
        "    # Temperature parameter: controls the randomness of the generated text\n",
        "    temperature=0.1,\n",
        "    # Maximum number of new tokens to generate\n",
        "    max_new_tokens=25,\n",
        "    # Use the end-of-sequence token as the padding token\n",
        "    pad_token_id=tokenizer.eos_token_id\n",
        ")"
      ],
      "execution_count": null
    },
    {
      "cell_type": "markdown",
      "metadata": {
        "id": "fdedcdce-5177-4b32-8ff6-81afb651db8c"
      },
      "source": [
        "<details>\n",
        "    <summary>Click here for hint</summary>\n",
        "\n",
        "```python\n",
        "generation_config = GenerationConfig(\n",
        "    # Use sampling to generate diverse text\n",
        "    do_sample=True,\n",
        "    # Top-k sampling parameter: controls the number of highest probability tokens to consider\n",
        "    top_k=1,\n",
        "    # Temperature parameter: controls the randomness of the generated text\n",
        "    temperature=0.1,\n",
        "    # Maximum number of new tokens to generate\n",
        "    max_new_tokens=25,\n",
        "    # Use the end-of-sequence token as the padding token\n",
        "    pad_token_id=tokenizer.eos_token_id\n",
        ")\n",
        "```\n",
        "\n",
        "</details>\n"
      ]
    },
    {
      "cell_type": "markdown",
      "metadata": {
        "id": "b5996e22-2155-4536-8636-5389099c390e"
      },
      "source": [
        "##### Create a function named `generate_dpo_response` that takes a prompt as input and generates a response using the DPO model (`dpo_model`).\n"
      ]
    },
    {
      "cell_type": "code",
      "metadata": {
        "id": "d79f711e-285b-4c46-8482-727f6ff17122"
      },
      "outputs": [],
      "source": [
        "#TODO\n",
        "def generate_dpo_response(prompt):\n",
        "    # Tokenize the prompt\n",
        "    inputs = tokenizer(prompt, return_tensors='pt')\n",
        "\n",
        "    # Generate text using the DPO model\n",
        "    outputs = dpo_model.generate(**inputs, generation_config=generation_config)\n",
        "\n",
        "    # Decode and return the response\n",
        "    return tokenizer.decode(outputs[0], skip_special_tokens=True)"
      ],
      "execution_count": null
    },
    {
      "cell_type": "markdown",
      "metadata": {
        "id": "c2b80aa0-40d9-406f-a120-f7d5783b8778"
      },
      "source": [
        "<details>\n",
        "    <summary>Click here for hint</summary>\n",
        "\n",
        "```python\n",
        "def generate_dpo_response(prompt):\n",
        "    # Tokenize the prompt\n",
        "    inputs = tokenizer(prompt, return_tensors='pt')\n",
        "\n",
        "    # Generate text using the DPO model\n",
        "    outputs = dpo_model.generate(**inputs, generation_config=generation_config)\n",
        "    \n",
        "    # Decode and return the response\n",
        "    return tokenizer.decode(outputs[0], skip_special_tokens=True)\n",
        "```\n",
        "\n",
        "</details>\n"
      ]
    },
    {
      "cell_type": "markdown",
      "metadata": {
        "id": "74f175ee-2444-442c-99b0-1c4c7d6ad2a7"
      },
      "source": [
        "##### Create another function named `generate_gpt2_response` that takes a prompt as input and generates a response using the GPT-2 model (`gpt2_model`).\n"
      ]
    },
    {
      "cell_type": "code",
      "metadata": {
        "id": "b9c9be62-dcb6-4895-8288-9dbc734d0cf0"
      },
      "outputs": [],
      "source": [
        "#TODO\n",
        "def generate_gpt2_response(prompt):\n",
        "    # Tokenize the prompt\n",
        "    inputs = tokenizer(prompt, return_tensors='pt')\n",
        "\n",
        "    # Generate text using the GPT-2 model\n",
        "    outputs = gpt2_model.generate(**inputs, generation_config=generation_config)\n",
        "\n",
        "    # Decode and return the response\n",
        "    return tokenizer.decode(outputs[0], skip_special_tokens=True)"
      ],
      "execution_count": null
    },
    {
      "cell_type": "markdown",
      "metadata": {
        "id": "87e1175b-5881-406d-b31e-2491f03ecdd0"
      },
      "source": [
        "<details>\n",
        "    <summary>Click here for hint</summary>\n",
        "\n",
        "```python\n",
        "def generate_gpt2_response(prompt):\n",
        "    # Tokenize the prompt\n",
        "    inputs = tokenizer(prompt, return_tensors='pt')\n",
        "\n",
        "    # Generate text using the GPT-2 model\n",
        "    outputs = gpt2_model.generate(**inputs, generation_config=generation_config)\n",
        "    \n",
        "    # Decode and return the response\n",
        "    return tokenizer.decode(outputs[0], skip_special_tokens=True)\n",
        "```\n",
        "\n",
        "</details>\n"
      ]
    },
    {
      "cell_type": "markdown",
      "metadata": {
        "id": "2da6ebe2-bd85-4045-bf56-76c1fb224cb1"
      },
      "source": [
        "##### Call both functions with a prompt and compare the responses.\n"
      ]
    },
    {
      "cell_type": "code",
      "metadata": {
        "id": "ce44750b-86f3-46de-a005-d211dc6b6b1e"
      },
      "outputs": [],
      "source": [
        "#TODO\n",
        "dpo_response = generate_dpo_response(PROMPT)\n",
        "gpt2_response = generate_gpt2_response(PROMPT)\n",
        "\n",
        "# Print the responses\n",
        "print(\"DPO response:\\t\", dpo_response)\n",
        "print(\"\\nGPT-2 response:\\t\", gpt2_response)"
      ],
      "execution_count": null
    },
    {
      "cell_type": "markdown",
      "metadata": {
        "id": "aa6edd4b-182e-4469-b190-f8731b6ec316"
      },
      "source": [
        "\n",
        "\n",
        "<details>\n",
        "    <summary>Click here for hint</summary>\n",
        "\n",
        "```python\n",
        "# Generate responses\n",
        "dpo_response = generate_dpo_response(PROMPT)\n",
        "gpt2_response = generate_gpt2_response(PROMPT)\n",
        "\n",
        "# Print the responses\n",
        "print(\"DPO response:\\t\", dpo_response)\n",
        "print(\"\\nGPT-2 response:\\t\", gpt2_response)\n",
        "```\n",
        "\n",
        "</details>\n"
      ]
    },
    {
      "cell_type": "markdown",
      "metadata": {
        "id": "f4854f50-448d-4a25-8c16-bc14f09f9adc"
      },
      "source": [
        "# Congratulations! You have completed the lab!\n"
      ]
    },
    {
      "cell_type": "markdown",
      "metadata": {
        "id": "64065a11-8bf1-4868-abe1-fdb396fe1a7b"
      },
      "source": [
        "## Authors\n"
      ]
    },
    {
      "cell_type": "markdown",
      "metadata": {
        "id": "a2ac0879-04e6-4cb3-ae2d-a5fff0bfa033"
      },
      "source": [
        "[Fateme Akbari](https://www.linkedin.com/in/fatemeakbari/) is a Ph.D. candidate in Information Systems at McMaster University with demonstrated research experience in Machine Learning and NLP.\n",
        "\n",
        "[Kunal Makwana](https://author.skills.network/instructors/kunal_makwana) is a Data Scientist at IBM and is currently pursuing his Master's in Computer Science at Dalhousie University.\n"
      ]
    },
    {
      "cell_type": "markdown",
      "metadata": {
        "id": "af25e5b8-269b-4fdb-b021-18bc7fd369d7"
      },
      "source": [
        "## References\n",
        "[DPO Trainer](https://huggingface.co/docs/trl/main/en/dpo_trainer)\n"
      ]
    },
    {
      "cell_type": "markdown",
      "metadata": {
        "id": "07042a7b-fbca-4bdc-a628-2f8af4cbf061"
      },
      "source": [
        "© Copyright IBM Corporation. All rights reserved.\n"
      ]
    }
  ],
  "metadata": {
    "kernelspec": {
      "display_name": "Python 3 (ipykernel)",
      "language": "python",
      "name": "python3"
    },
    "language_info": {
      "codemirror_mode": {
        "name": "ipython",
        "version": 3
      },
      "file_extension": ".py",
      "mimetype": "text/x-python",
      "name": "python",
      "nbconvert_exporter": "python",
      "pygments_lexer": "ipython3",
      "version": "3.12.8"
    },
    "prev_pub_hash": "1423db1b9601de50ab6ef871a2b0ccf668561a79fd2c376658de979b10985706",
    "colab": {
      "provenance": [],
      "include_colab_link": true
    }
  },
  "nbformat": 4,
  "nbformat_minor": 0
}